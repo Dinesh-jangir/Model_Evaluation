{
 "cells": [
  {
   "cell_type": "markdown",
   "id": "10feb43a",
   "metadata": {},
   "source": [
    "### RandomSearchCV "
   ]
  },
  {
   "cell_type": "code",
   "execution_count": 1,
   "id": "80cb2a2f",
   "metadata": {},
   "outputs": [],
   "source": [
    "## import Libaray \n",
    "\n",
    "import pandas as pd \n",
    "from sklearn.model_selection import train_test_split \n",
    "from sklearn.metrics import accuracy_score \n",
    "from sklearn import datasets \n"
   ]
  },
  {
   "cell_type": "code",
   "execution_count": 3,
   "id": "38c99c5b",
   "metadata": {},
   "outputs": [],
   "source": [
    "### Load the data \n",
    "\n",
    "data = datasets.load_wine()\n",
    "\n",
    "x = data.data\n",
    "y = data.target"
   ]
  },
  {
   "cell_type": "code",
   "execution_count": 4,
   "id": "4eaec207",
   "metadata": {},
   "outputs": [
    {
     "data": {
      "text/plain": [
       "'.. _wine_dataset:\\n\\nWine recognition dataset\\n------------------------\\n\\n**Data Set Characteristics:**\\n\\n:Number of Instances: 178\\n:Number of Attributes: 13 numeric, predictive attributes and the class\\n:Attribute Information:\\n    - Alcohol\\n    - Malic acid\\n    - Ash\\n    - Alcalinity of ash\\n    - Magnesium\\n    - Total phenols\\n    - Flavanoids\\n    - Nonflavanoid phenols\\n    - Proanthocyanins\\n    - Color intensity\\n    - Hue\\n    - OD280/OD315 of diluted wines\\n    - Proline\\n    - class:\\n        - class_0\\n        - class_1\\n        - class_2\\n\\n:Summary Statistics:\\n\\n============================= ==== ===== ======= =====\\n                                Min   Max   Mean     SD\\n============================= ==== ===== ======= =====\\nAlcohol:                      11.0  14.8    13.0   0.8\\nMalic Acid:                   0.74  5.80    2.34  1.12\\nAsh:                          1.36  3.23    2.36  0.27\\nAlcalinity of Ash:            10.6  30.0    19.5   3.3\\nMagnesium:                    70.0 162.0    99.7  14.3\\nTotal Phenols:                0.98  3.88    2.29  0.63\\nFlavanoids:                   0.34  5.08    2.03  1.00\\nNonflavanoid Phenols:         0.13  0.66    0.36  0.12\\nProanthocyanins:              0.41  3.58    1.59  0.57\\nColour Intensity:              1.3  13.0     5.1   2.3\\nHue:                          0.48  1.71    0.96  0.23\\nOD280/OD315 of diluted wines: 1.27  4.00    2.61  0.71\\nProline:                       278  1680     746   315\\n============================= ==== ===== ======= =====\\n\\n:Missing Attribute Values: None\\n:Class Distribution: class_0 (59), class_1 (71), class_2 (48)\\n:Creator: R.A. Fisher\\n:Donor: Michael Marshall (MARSHALL%PLU@io.arc.nasa.gov)\\n:Date: July, 1988\\n\\nThis is a copy of UCI ML Wine recognition datasets.\\nhttps://archive.ics.uci.edu/ml/machine-learning-databases/wine/wine.data\\n\\nThe data is the results of a chemical analysis of wines grown in the same\\nregion in Italy by three different cultivators. There are thirteen different\\nmeasurements taken for different constituents found in the three types of\\nwine.\\n\\nOriginal Owners:\\n\\nForina, M. et al, PARVUS -\\nAn Extendible Package for Data Exploration, Classification and Correlation.\\nInstitute of Pharmaceutical and Food Analysis and Technologies,\\nVia Brigata Salerno, 16147 Genoa, Italy.\\n\\nCitation:\\n\\nLichman, M. (2013). UCI Machine Learning Repository\\n[https://archive.ics.uci.edu/ml]. Irvine, CA: University of California,\\nSchool of Information and Computer Science.\\n\\n.. dropdown:: References\\n\\n    (1) S. Aeberhard, D. Coomans and O. de Vel,\\n    Comparison of Classifiers in High Dimensional Settings,\\n    Tech. Rep. no. 92-02, (1992), Dept. of Computer Science and Dept. of\\n    Mathematics and Statistics, James Cook University of North Queensland.\\n    (Also submitted to Technometrics).\\n\\n    The data was used with many others for comparing various\\n    classifiers. The classes are separable, though only RDA\\n    has achieved 100% correct classification.\\n    (RDA : 100%, QDA 99.4%, LDA 98.9%, 1NN 96.1% (z-transformed data))\\n    (All results using the leave-one-out technique)\\n\\n    (2) S. Aeberhard, D. Coomans and O. de Vel,\\n    \"THE CLASSIFICATION PERFORMANCE OF RDA\"\\n    Tech. Rep. no. 92-01, (1992), Dept. of Computer Science and Dept. of\\n    Mathematics and Statistics, James Cook University of North Queensland.\\n    (Also submitted to Journal of Chemometrics).\\n'"
      ]
     },
     "execution_count": 4,
     "metadata": {},
     "output_type": "execute_result"
    }
   ],
   "source": [
    "data.DESCR"
   ]
  },
  {
   "cell_type": "code",
   "execution_count": 5,
   "id": "d5e50324",
   "metadata": {},
   "outputs": [],
   "source": [
    "x_train,x_test,y_train,y_test = train_test_split(x,y,random_state=42,test_size=0.25)"
   ]
  },
  {
   "cell_type": "code",
   "execution_count": 7,
   "id": "ba08174d",
   "metadata": {},
   "outputs": [
    {
     "data": {
      "text/plain": [
       "((133, 13), (45, 13))"
      ]
     },
     "execution_count": 7,
     "metadata": {},
     "output_type": "execute_result"
    }
   ],
   "source": [
    "x_train.shape , x_test.shape"
   ]
  },
  {
   "cell_type": "code",
   "execution_count": null,
   "id": "7b3d23f5",
   "metadata": {},
   "outputs": [
    {
     "data": {
      "text/plain": [
       "array([[1.316e+01, 2.360e+00, 2.670e+00, ..., 1.030e+00, 3.170e+00,\n",
       "        1.185e+03],\n",
       "       [1.208e+01, 2.080e+00, 1.700e+00, ..., 1.270e+00, 2.960e+00,\n",
       "        7.100e+02],\n",
       "       [1.242e+01, 4.430e+00, 2.730e+00, ..., 9.200e-01, 3.120e+00,\n",
       "        3.650e+02],\n",
       "       ...,\n",
       "       [1.438e+01, 1.870e+00, 2.380e+00, ..., 1.200e+00, 3.000e+00,\n",
       "        1.547e+03],\n",
       "       [1.269e+01, 1.530e+00, 2.260e+00, ..., 9.600e-01, 2.060e+00,\n",
       "        4.950e+02],\n",
       "       [1.234e+01, 2.450e+00, 2.460e+00, ..., 8.000e-01, 3.380e+00,\n",
       "        4.380e+02]], shape=(133, 13))"
      ]
     },
     "execution_count": 8,
     "metadata": {},
     "output_type": "execute_result"
    }
   ],
   "source": [
    "x_train"
   ]
  },
  {
   "cell_type": "code",
   "execution_count": 11,
   "id": "26d9c8f4",
   "metadata": {},
   "outputs": [],
   "source": [
    "### Multiple Machine learning Model \n",
    "\n",
    "from sklearn.ensemble import RandomForestClassifier \n",
    "from sklearn.tree import DecisionTreeClassifier \n",
    "from sklearn.ensemble import AdaBoostClassifier \n",
    "from sklearn.linear_model import LogisticRegression \n",
    "from sklearn.metrics import accuracy_score,precision_score,recall_score,f1_score"
   ]
  },
  {
   "cell_type": "code",
   "execution_count": 24,
   "id": "be18e441",
   "metadata": {},
   "outputs": [
    {
     "name": "stderr",
     "output_type": "stream",
     "text": [
      "c:\\Users\\dinesh jangir\\Model_Evaluation\\venv\\Lib\\site-packages\\sklearn\\linear_model\\_logistic.py:470: ConvergenceWarning: lbfgs failed to converge after 100 iteration(s) (status=1):\n",
      "STOP: TOTAL NO. OF ITERATIONS REACHED LIMIT\n",
      "\n",
      "Increase the number of iterations to improve the convergence (max_iter=100).\n",
      "You might also want to scale the data as shown in:\n",
      "    https://scikit-learn.org/stable/modules/preprocessing.html\n",
      "Please also refer to the documentation for alternative solver options:\n",
      "    https://scikit-learn.org/stable/modules/linear_model.html#logistic-regression\n",
      "  n_iter_i = _check_optimize_result(\n"
     ]
    },
    {
     "name": "stdout",
     "output_type": "stream",
     "text": [
      "logistic Regression\n",
      "model for  Preformance taining set\n",
      "- Accuracy :0.9549\n",
      "- f1_score :0.9551\n",
      "- recall_score :0.9549\n",
      " - Precision : 0.9560\n",
      "-----------------------------------------------------------------\n",
      "model for  Preformance test set\n",
      "- Accuracy :0.9778\n",
      "- f1_score :0.9777\n",
      "- recall_score :0.9778\n",
      " - Precision : 0.9789\n",
      "===================================\n",
      "\n",
      "\n",
      "Decision Tree \n",
      "model for  Preformance taining set\n",
      "- Accuracy :1.0000\n",
      "- f1_score :1.0000\n",
      "- recall_score :1.0000\n",
      " - Precision : 1.0000\n",
      "-----------------------------------------------------------------\n",
      "model for  Preformance test set\n",
      "- Accuracy :0.9556\n",
      "- f1_score :0.9554\n",
      "- recall_score :0.9556\n",
      " - Precision : 0.9567\n",
      "===================================\n",
      "\n",
      "\n",
      "Random Forest\n",
      "model for  Preformance taining set\n",
      "- Accuracy :1.0000\n",
      "- f1_score :1.0000\n",
      "- recall_score :1.0000\n",
      " - Precision : 1.0000\n",
      "-----------------------------------------------------------------\n",
      "model for  Preformance test set\n",
      "- Accuracy :1.0000\n",
      "- f1_score :1.0000\n",
      "- recall_score :1.0000\n",
      " - Precision : 1.0000\n",
      "===================================\n",
      "\n",
      "\n",
      "AdaBoost\n",
      "model for  Preformance taining set\n",
      "- Accuracy :1.0000\n",
      "- f1_score :1.0000\n",
      "- recall_score :1.0000\n",
      " - Precision : 1.0000\n",
      "-----------------------------------------------------------------\n",
      "model for  Preformance test set\n",
      "- Accuracy :0.9556\n",
      "- f1_score :0.9551\n",
      "- recall_score :0.9556\n",
      " - Precision : 0.9587\n",
      "===================================\n",
      "\n",
      "\n"
     ]
    }
   ],
   "source": [
    "models = {\n",
    "    \"logistic Regression\" : LogisticRegression(),\n",
    "    \"Decision Tree \" : DecisionTreeClassifier(),\n",
    "    \"Random Forest\": RandomForestClassifier(),\n",
    "    \"AdaBoost\" :  AdaBoostClassifier()\n",
    "    \n",
    "}\n",
    "for i in range(len(list(models))):\n",
    "    model = list(models.values())[i]\n",
    "    model.fit(x_train,y_train) # Train the model\n",
    "    \n",
    "    ## Meke the prediction \n",
    "    \n",
    "    y_train_pred = model.predict(x_train)\n",
    "    y_test_pred = model.predict(x_test)\n",
    "    \n",
    "    ## trainint set performance \n",
    "    \n",
    "    model_train_accuracy  = accuracy_score(y_train,y_train_pred)\n",
    "    model_train_f1 = f1_score(y_train, y_train_pred, average='weighted')\n",
    "    model_train_precision  = precision_score(y_train, y_train_pred, average='weighted')\n",
    "    model_train_recall = recall_score(y_train, y_train_pred, average='weighted')\n",
    "    \n",
    "    ## testset performance \n",
    "    \n",
    "    \n",
    "    model_test_accuracy  = accuracy_score(y_test,y_test_pred)\n",
    "    model_test_f1 = f1_score(y_test,y_test_pred,average=\"weighted\")\n",
    "    model_test_precision  = precision_score(y_test,y_test_pred,average=\"weighted\")\n",
    "    model_test_recall = recall_score(y_test,y_test_pred,average=\"weighted\")\n",
    "    \n",
    "    \n",
    "    print(list(models.keys())[i])\n",
    "    \n",
    "    print(\"model for  Preformance taining set\")\n",
    "    print(\"- Accuracy :{:.4f}\".format(model_train_accuracy))\n",
    "    print(\"- f1_score :{:.4f}\".format(model_train_f1))\n",
    "    print(\"- recall_score :{:.4f}\".format(model_train_recall))\n",
    "    print(\" - Precision : {:.4f}\".format(model_train_precision))\n",
    "\n",
    "    \n",
    "    print('-----------------------------------------------------------------')\n",
    "    \n",
    "    print(\"model for  Preformance test set\")\n",
    "    print(\"- Accuracy :{:.4f}\".format(model_test_accuracy))\n",
    "    print(\"- f1_score :{:.4f}\".format(model_test_f1))\n",
    "    print(\"- recall_score :{:.4f}\".format(model_test_recall))\n",
    "    print(\" - Precision : {:.4f}\".format(model_test_precision))\n",
    "\n",
    "    print('='*35)\n",
    "    print('\\n')"
   ]
  },
  {
   "cell_type": "code",
   "execution_count": 26,
   "id": "b417ce3b",
   "metadata": {},
   "outputs": [],
   "source": [
    "### Hyperparameter tarining \n",
    "\n",
    "rf_params = {\n",
    "    \"max_depth\":[5,8,None,10],\n",
    "    \"max_features\" : [5,7,\"auto\",8],\n",
    "    \"min_samples_split\": [2,8,15,20],\n",
    "    \"n_estimators\" : [100,200,500,1000]\n",
    "}"
   ]
  },
  {
   "cell_type": "code",
   "execution_count": 27,
   "id": "a2406f74",
   "metadata": {},
   "outputs": [
    {
     "data": {
      "text/plain": [
       "{'max_depth': [5, 8, None, 10],\n",
       " 'max_features': [5, 7, 'auto', 8],\n",
       " 'min_samples_split': [2, 8, 15, 20],\n",
       " 'n_estimators': [100, 200, 500, 1000]}"
      ]
     },
     "execution_count": 27,
     "metadata": {},
     "output_type": "execute_result"
    }
   ],
   "source": [
    "rf_params"
   ]
  },
  {
   "cell_type": "code",
   "execution_count": 35,
   "id": "a40aecec",
   "metadata": {},
   "outputs": [],
   "source": [
    "### Model list for Hyperparameter Tunning \n",
    "\n",
    "randomcv_model = [\n",
    "    (\"RF\",RandomForestClassifier(),rf_params)\n",
    "]"
   ]
  },
  {
   "cell_type": "code",
   "execution_count": 36,
   "id": "9f58ab13",
   "metadata": {},
   "outputs": [
    {
     "data": {
      "text/plain": [
       "[('RF',\n",
       "  RandomForestClassifier(),\n",
       "  {'max_depth': [5, 8, None, 10],\n",
       "   'max_features': [5, 7, 'auto', 8],\n",
       "   'min_samples_split': [2, 8, 15, 20],\n",
       "   'n_estimators': [100, 200, 500, 1000]})]"
      ]
     },
     "execution_count": 36,
     "metadata": {},
     "output_type": "execute_result"
    }
   ],
   "source": [
    "randomcv_model"
   ]
  },
  {
   "cell_type": "code",
   "execution_count": 38,
   "id": "d475e256",
   "metadata": {},
   "outputs": [
    {
     "name": "stdout",
     "output_type": "stream",
     "text": [
      "Fitting 3 folds for each of 100 candidates, totalling 300 fits\n"
     ]
    },
    {
     "name": "stderr",
     "output_type": "stream",
     "text": [
      "c:\\Users\\dinesh jangir\\Model_Evaluation\\venv\\Lib\\site-packages\\sklearn\\model_selection\\_validation.py:516: FitFailedWarning: \n",
      "72 fits failed out of a total of 300.\n",
      "The score on these train-test partitions for these parameters will be set to nan.\n",
      "If these failures are not expected, you can try to debug them by setting error_score='raise'.\n",
      "\n",
      "Below are more details about the failures:\n",
      "--------------------------------------------------------------------------------\n",
      "43 fits failed with the following error:\n",
      "Traceback (most recent call last):\n",
      "  File \"c:\\Users\\dinesh jangir\\Model_Evaluation\\venv\\Lib\\site-packages\\sklearn\\model_selection\\_validation.py\", line 859, in _fit_and_score\n",
      "    estimator.fit(X_train, y_train, **fit_params)\n",
      "  File \"c:\\Users\\dinesh jangir\\Model_Evaluation\\venv\\Lib\\site-packages\\sklearn\\base.py\", line 1356, in wrapper\n",
      "    estimator._validate_params()\n",
      "  File \"c:\\Users\\dinesh jangir\\Model_Evaluation\\venv\\Lib\\site-packages\\sklearn\\base.py\", line 469, in _validate_params\n",
      "    validate_parameter_constraints(\n",
      "  File \"c:\\Users\\dinesh jangir\\Model_Evaluation\\venv\\Lib\\site-packages\\sklearn\\utils\\_param_validation.py\", line 98, in validate_parameter_constraints\n",
      "    raise InvalidParameterError(\n",
      "sklearn.utils._param_validation.InvalidParameterError: The 'max_features' parameter of RandomForestClassifier must be an int in the range [1, inf), a float in the range (0.0, 1.0], a str among {'sqrt', 'log2'} or None. Got 'auto' instead.\n",
      "\n",
      "--------------------------------------------------------------------------------\n",
      "29 fits failed with the following error:\n",
      "Traceback (most recent call last):\n",
      "  File \"c:\\Users\\dinesh jangir\\Model_Evaluation\\venv\\Lib\\site-packages\\sklearn\\model_selection\\_validation.py\", line 859, in _fit_and_score\n",
      "    estimator.fit(X_train, y_train, **fit_params)\n",
      "  File \"c:\\Users\\dinesh jangir\\Model_Evaluation\\venv\\Lib\\site-packages\\sklearn\\base.py\", line 1356, in wrapper\n",
      "    estimator._validate_params()\n",
      "  File \"c:\\Users\\dinesh jangir\\Model_Evaluation\\venv\\Lib\\site-packages\\sklearn\\base.py\", line 469, in _validate_params\n",
      "    validate_parameter_constraints(\n",
      "  File \"c:\\Users\\dinesh jangir\\Model_Evaluation\\venv\\Lib\\site-packages\\sklearn\\utils\\_param_validation.py\", line 98, in validate_parameter_constraints\n",
      "    raise InvalidParameterError(\n",
      "sklearn.utils._param_validation.InvalidParameterError: The 'max_features' parameter of RandomForestClassifier must be an int in the range [1, inf), a float in the range (0.0, 1.0], a str among {'log2', 'sqrt'} or None. Got 'auto' instead.\n",
      "\n",
      "  warnings.warn(some_fits_failed_message, FitFailedWarning)\n",
      "c:\\Users\\dinesh jangir\\Model_Evaluation\\venv\\Lib\\site-packages\\sklearn\\model_selection\\_search.py:1135: UserWarning: One or more of the test scores are non-finite: [       nan 0.97727273 0.96212121 0.97727273 0.96969697 0.96969697\n",
      "        nan 0.96969697        nan        nan 0.96969697 0.97727273\n",
      " 0.96969697 0.96969697 0.96969697 0.96969697 0.96228956 0.96969697\n",
      " 0.97727273 0.96969697 0.96969697 0.96212121 0.96212121 0.96969697\n",
      " 0.96212121 0.96969697 0.96969697        nan 0.96969697        nan\n",
      " 0.96969697        nan 0.96969697 0.96969697 0.96212121 0.97727273\n",
      "        nan 0.96212121        nan 0.96212121 0.97727273 0.96969697\n",
      "        nan        nan 0.96969697 0.97727273 0.96969697 0.96969697\n",
      " 0.98484848 0.96212121 0.96969697 0.9547138  0.96969697 0.96969697\n",
      " 0.96212121        nan 0.96969697        nan        nan        nan\n",
      " 0.97727273 0.96969697        nan 0.96969697 0.96212121 0.96969697\n",
      " 0.97727273        nan        nan        nan 0.96969697 0.96969697\n",
      " 0.96212121 0.96212121 0.96212121 0.96212121        nan 0.96969697\n",
      "        nan 0.97727273 0.96969697 0.96969697 0.96969697        nan\n",
      " 0.96212121 0.9547138         nan 0.96969697 0.96969697 0.96969697\n",
      " 0.96969697 0.96969697 0.96969697 0.96969697 0.96969697        nan\n",
      " 0.96969697 0.96969697 0.96212121 0.96969697]\n",
      "  warnings.warn(\n"
     ]
    },
    {
     "name": "stdout",
     "output_type": "stream",
     "text": [
      "------------------------- - Best param for RF ---------------------------------\n",
      "{'n_estimators': 100, 'min_samples_split': 2, 'max_features': 7, 'max_depth': 10}\n"
     ]
    }
   ],
   "source": [
    "from sklearn.model_selection import RandomizedSearchCV\n",
    "\n",
    "model_param = {}\n",
    "\n",
    "for name,model,params in randomcv_model:\n",
    "    random = RandomizedSearchCV(estimator=model,\n",
    "                                param_distributions=params,\n",
    "                                n_iter=100,\n",
    "                                cv=3,\n",
    "                                verbose=2,\n",
    "                                n_jobs=-1) \n",
    "    random.fit(x_train,y_train)  \n",
    "    model_param[name] = random.best_params_\n",
    "    \n",
    "\n",
    "    \n",
    "for model_name in model_param:\n",
    "    print(f\"------------------------- - Best param for {model_name} ---------------------------------\")\n",
    "    print(model_param[model_name])"
   ]
  },
  {
   "cell_type": "code",
   "execution_count": 41,
   "id": "6963139a",
   "metadata": {},
   "outputs": [
    {
     "name": "stderr",
     "output_type": "stream",
     "text": [
      "c:\\Users\\dinesh jangir\\Model_Evaluation\\venv\\Lib\\site-packages\\sklearn\\linear_model\\_logistic.py:470: ConvergenceWarning: lbfgs failed to converge after 100 iteration(s) (status=1):\n",
      "STOP: TOTAL NO. OF ITERATIONS REACHED LIMIT\n",
      "\n",
      "Increase the number of iterations to improve the convergence (max_iter=100).\n",
      "You might also want to scale the data as shown in:\n",
      "    https://scikit-learn.org/stable/modules/preprocessing.html\n",
      "Please also refer to the documentation for alternative solver options:\n",
      "    https://scikit-learn.org/stable/modules/linear_model.html#logistic-regression\n",
      "  n_iter_i = _check_optimize_result(\n"
     ]
    },
    {
     "name": "stdout",
     "output_type": "stream",
     "text": [
      "logistic Regression\n",
      "model for  Preformance taining set\n",
      "- Accuracy :0.9549\n",
      "- f1_score :0.9551\n",
      "- recall_score :0.9549\n",
      " - Precision : 0.9560\n",
      "-----------------------------------------------------------------\n",
      "model for  Preformance test set\n",
      "- Accuracy :0.9778\n",
      "- f1_score :0.9777\n",
      "- recall_score :0.9778\n",
      " - Precision : 0.9789\n",
      "===================================\n",
      "\n",
      "\n",
      "Decision Tree \n",
      "model for  Preformance taining set\n",
      "- Accuracy :1.0000\n",
      "- f1_score :1.0000\n",
      "- recall_score :1.0000\n",
      " - Precision : 1.0000\n",
      "-----------------------------------------------------------------\n",
      "model for  Preformance test set\n",
      "- Accuracy :0.9333\n",
      "- f1_score :0.9329\n",
      "- recall_score :0.9333\n",
      " - Precision : 0.9362\n",
      "===================================\n",
      "\n",
      "\n",
      "Random Forest\n",
      "model for  Preformance taining set\n",
      "- Accuracy :1.0000\n",
      "- f1_score :1.0000\n",
      "- recall_score :1.0000\n",
      " - Precision : 1.0000\n",
      "-----------------------------------------------------------------\n",
      "model for  Preformance test set\n",
      "- Accuracy :1.0000\n",
      "- f1_score :1.0000\n",
      "- recall_score :1.0000\n",
      " - Precision : 1.0000\n",
      "===================================\n",
      "\n",
      "\n",
      "AdaBoost\n",
      "model for  Preformance taining set\n",
      "- Accuracy :1.0000\n",
      "- f1_score :1.0000\n",
      "- recall_score :1.0000\n",
      " - Precision : 1.0000\n",
      "-----------------------------------------------------------------\n",
      "model for  Preformance test set\n",
      "- Accuracy :0.9556\n",
      "- f1_score :0.9551\n",
      "- recall_score :0.9556\n",
      " - Precision : 0.9587\n",
      "===================================\n",
      "\n",
      "\n"
     ]
    }
   ],
   "source": [
    "models = {\n",
    "    \"Random Forest\" : RandomForestClassifier(n_estimators=100,min_samples_split=2,max_depth=7,max_features=8)\n",
    "}\n",
    "\n",
    "models = {\n",
    "    \"logistic Regression\" : LogisticRegression(),\n",
    "    \"Decision Tree \" : DecisionTreeClassifier(),\n",
    "    \"Random Forest\": RandomForestClassifier(),\n",
    "    \"AdaBoost\" :  AdaBoostClassifier()\n",
    "    \n",
    "}\n",
    "for i in range(len(list(models))):\n",
    "    model = list(models.values())[i]\n",
    "    model.fit(x_train,y_train) # Train the model\n",
    "    \n",
    "    ## Meke the prediction \n",
    "    \n",
    "    y_train_pred = model.predict(x_train)\n",
    "    y_test_pred = model.predict(x_test)\n",
    "    \n",
    "    ## trainint set performance \n",
    "    \n",
    "    model_train_accuracy  = accuracy_score(y_train,y_train_pred)\n",
    "    model_train_f1 = f1_score(y_train, y_train_pred, average='weighted')\n",
    "    model_train_precision  = precision_score(y_train, y_train_pred, average='weighted')\n",
    "    model_train_recall = recall_score(y_train, y_train_pred, average='weighted')\n",
    "    \n",
    "    ## testset performance \n",
    "    \n",
    "    \n",
    "    model_test_accuracy  = accuracy_score(y_test,y_test_pred)\n",
    "    model_test_f1 = f1_score(y_test,y_test_pred,average=\"weighted\")\n",
    "    model_test_precision  = precision_score(y_test,y_test_pred,average=\"weighted\")\n",
    "    model_test_recall = recall_score(y_test,y_test_pred,average=\"weighted\")\n",
    "    \n",
    "    \n",
    "    print(list(models.keys())[i])\n",
    "    \n",
    "    print(\"model for  Preformance taining set\")\n",
    "    print(\"- Accuracy :{:.4f}\".format(model_train_accuracy))\n",
    "    print(\"- f1_score :{:.4f}\".format(model_train_f1))\n",
    "    print(\"- recall_score :{:.4f}\".format(model_train_recall))\n",
    "    print(\" - Precision : {:.4f}\".format(model_train_precision))\n",
    "\n",
    "    \n",
    "    print('-----------------------------------------------------------------')\n",
    "    \n",
    "    print(\"model for  Preformance test set\")\n",
    "    print(\"- Accuracy :{:.4f}\".format(model_test_accuracy))\n",
    "    print(\"- f1_score :{:.4f}\".format(model_test_f1))\n",
    "    print(\"- recall_score :{:.4f}\".format(model_test_recall))\n",
    "    print(\" - Precision : {:.4f}\".format(model_test_precision))\n",
    "\n",
    "    print('='*35)\n",
    "    print('\\n')"
   ]
  },
  {
   "cell_type": "code",
   "execution_count": null,
   "id": "5bd26a05",
   "metadata": {},
   "outputs": [],
   "source": []
  },
  {
   "cell_type": "code",
   "execution_count": null,
   "id": "87568603",
   "metadata": {},
   "outputs": [],
   "source": []
  }
 ],
 "metadata": {
  "kernelspec": {
   "display_name": "Python 3",
   "language": "python",
   "name": "python3"
  },
  "language_info": {
   "codemirror_mode": {
    "name": "ipython",
    "version": 3
   },
   "file_extension": ".py",
   "mimetype": "text/x-python",
   "name": "python",
   "nbconvert_exporter": "python",
   "pygments_lexer": "ipython3",
   "version": "3.12.7"
  }
 },
 "nbformat": 4,
 "nbformat_minor": 5
}
